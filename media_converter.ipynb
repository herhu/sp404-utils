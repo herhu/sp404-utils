{
 "cells": [
  {
   "cell_type": "markdown",
   "metadata": {},
   "source": [
    "Here is tiny script to change the bitrate of any samples pack you need. \n",
    "---\n",
    "The first step is to install the necessary libraries. \n",
    "`soundfile` is a library that allows you to read and write sound files."
   ]
  },
  {
   "cell_type": "code",
   "execution_count": null,
   "metadata": {
    "vscode": {
     "languageId": "shellscript"
    }
   },
   "outputs": [],
   "source": [
    "pip install soundfile numpy"
   ]
  },
  {
   "cell_type": "markdown",
   "metadata": {},
   "source": [
    "The second step is to define the function that will read files from a directory and convert them to the desired bitrate.\n",
    "Following function gets the root directory and read all the files in it. It returns the list of paths to the files. "
   ]
  },
  {
   "cell_type": "code",
   "execution_count": 24,
   "metadata": {},
   "outputs": [],
   "source": [
    "import os\n",
    "\n",
    "def get_files(directory):\n",
    "    files = []\n",
    "    for root, _, filenames in os.walk(directory):\n",
    "        for filename in filenames:\n",
    "            if filename.endswith(\".wav\"):\n",
    "                files.append(os.path.join(root, filename))\n",
    "    return files"
   ]
  },
  {
   "cell_type": "markdown",
   "metadata": {},
   "source": [
    "Finally, the function `align_bitrate` reads the files from the list of paths and converts them to the desired bitrate.\n",
    "You need to pass the list of paths, the desired bitrate, and the subtype of the file.\n",
    "The solution uses `soundfile` library to read and write the files, you can find more information about the library [here](https://python-soundfile.readthedocs.io/en/0.11.0/index.html)."
   ]
  },
  {
   "cell_type": "code",
   "execution_count": 37,
   "metadata": {},
   "outputs": [],
   "source": [
    "import soundfile\n",
    "\n",
    "def align_bitrate(files, target_bitrate=44100, subtype='PCM_16'):\n",
    "    for file in files:\n",
    "        try:\n",
    "            # Log the start of processing for the file\n",
    "            print(f'Processing file: {file}')\n",
    "            \n",
    "            # Read the audio file\n",
    "            sound_data, rate = soundfile.read(file)\n",
    "            print(f'Original Sample Rate: {rate} Hz')\n",
    "            print(f'Original Bits per Sample: {sound_data.dtype}')\n",
    "\n",
    "            # Check bits per sample and convert if necessary\n",
    "            if sound_data.dtype == 'int16':  # Check if bits per sample is 16\n",
    "                print(f'Converting bits per sample from 16 to 24 for file: {file}')\n",
    "                sound_data = sound_data.astype('int32')  # Convert to 24 bits (int32)\n",
    "                print(f'New Bits per Sample: {sound_data.dtype}')\n",
    "\n",
    "            # Write the modified audio file\n",
    "            soundfile.write(file, sound_data, samplerate=target_bitrate, subtype=subtype)\n",
    "            print(f'File - {file}: {rate} Hz formatted to {target_bitrate} Hz with subtype {subtype}')\n",
    "        \n",
    "        except Exception as e:\n",
    "            print(f'Error formatting {file}: {e}')\n",
    "    \n",
    "    # Completion message\n",
    "    print(\"All files have been processed. You can now safely unmount the volume.\")"
   ]
  },
  {
   "cell_type": "markdown",
   "metadata": {},
   "source": [
    "`SOURCE_ROOT_DIRECTORY` - the path to the directory with the files you want to convert. You always need to pass the full path to the directory."
   ]
  },
  {
   "cell_type": "code",
   "execution_count": 39,
   "metadata": {},
   "outputs": [],
   "source": [
    "SOURCE_ROOT_DIRECTORY = \"/Volumes/SP404MKII/IMPORT/2025SAMPLE/G-Funk\""
   ]
  },
  {
   "cell_type": "markdown",
   "metadata": {},
   "source": [
    "The main part of the workflow is applying the function `align_bitrate` to the list of paths."
   ]
  },
  {
   "cell_type": "code",
   "execution_count": null,
   "metadata": {},
   "outputs": [],
   "source": [
    "files = get_files(SOURCE_ROOT_DIRECTORY)\n",
    "align_bitrate(files, 44100, 'PCM_16')"
   ]
  },
  {
   "cell_type": "markdown",
   "metadata": {},
   "source": [
    "Remember the results will replace the original files. If you want to keep the original files, you need to create a copy of the files before running the script. "
   ]
  }
 ],
 "metadata": {
  "kernelspec": {
   "display_name": "Python 3",
   "language": "python",
   "name": "python3"
  },
  "language_info": {
   "codemirror_mode": {
    "name": "ipython",
    "version": 3
   },
   "file_extension": ".py",
   "mimetype": "text/x-python",
   "name": "python",
   "nbconvert_exporter": "python",
   "pygments_lexer": "ipython3",
   "version": "3.12.7"
  }
 },
 "nbformat": 4,
 "nbformat_minor": 2
}
